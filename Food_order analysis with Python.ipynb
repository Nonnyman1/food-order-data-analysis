{
 "cells": [
  {
   "cell_type": "markdown",
   "id": "94c5f9f2",
   "metadata": {},
   "source": [
    "# WEEK 6 DATA ANALYTICS ASSIGNMENT SOLUTION"
   ]
  },
  {
   "cell_type": "markdown",
   "id": "3ca10f9c",
   "metadata": {},
   "source": [
    "## 1. LOAD DATA"
   ]
  },
  {
   "cell_type": "code",
   "execution_count": 1,
   "id": "03624550",
   "metadata": {},
   "outputs": [],
   "source": [
    "# Import the necessary libraries\n",
    "import pandas as pd\n",
    "import numpy as np\n",
    "import matplotlib.pyplot as plt\n",
    "\n",
    "%matplotlib inline"
   ]
  },
  {
   "cell_type": "code",
   "execution_count": 2,
   "id": "1117f3ae",
   "metadata": {},
   "outputs": [],
   "source": [
    "# load in the data file\n",
    "df= pd.read_csv (r\"C:\\Users\\user\\OneDrive\\Desktop\\food_order.csv\")"
   ]
  },
  {
   "cell_type": "markdown",
   "id": "b9d9a88c",
   "metadata": {},
   "source": [
    "## 2. EXPLORE THE DATAFRAME"
   ]
  },
  {
   "cell_type": "code",
   "execution_count": 3,
   "id": "05a547a0",
   "metadata": {},
   "outputs": [
    {
     "data": {
      "text/html": [
       "<div>\n",
       "<style scoped>\n",
       "    .dataframe tbody tr th:only-of-type {\n",
       "        vertical-align: middle;\n",
       "    }\n",
       "\n",
       "    .dataframe tbody tr th {\n",
       "        vertical-align: top;\n",
       "    }\n",
       "\n",
       "    .dataframe thead th {\n",
       "        text-align: right;\n",
       "    }\n",
       "</style>\n",
       "<table border=\"1\" class=\"dataframe\">\n",
       "  <thead>\n",
       "    <tr style=\"text-align: right;\">\n",
       "      <th></th>\n",
       "      <th>order_id</th>\n",
       "      <th>customer_id</th>\n",
       "      <th>restaurant_name</th>\n",
       "      <th>cuisine_type</th>\n",
       "      <th>cost_of_the_order</th>\n",
       "      <th>day_of_the_week</th>\n",
       "      <th>rating</th>\n",
       "      <th>food_preparation_time</th>\n",
       "      <th>delivery_time</th>\n",
       "    </tr>\n",
       "  </thead>\n",
       "  <tbody>\n",
       "    <tr>\n",
       "      <th>0</th>\n",
       "      <td>1477147</td>\n",
       "      <td>337525</td>\n",
       "      <td>Hangawi</td>\n",
       "      <td>Korean</td>\n",
       "      <td>30.75</td>\n",
       "      <td>Weekend</td>\n",
       "      <td>Not given</td>\n",
       "      <td>25</td>\n",
       "      <td>20</td>\n",
       "    </tr>\n",
       "    <tr>\n",
       "      <th>1</th>\n",
       "      <td>1477685</td>\n",
       "      <td>358141</td>\n",
       "      <td>Blue Ribbon Sushi Izakaya</td>\n",
       "      <td>Japanese</td>\n",
       "      <td>12.08</td>\n",
       "      <td>Weekend</td>\n",
       "      <td>Not given</td>\n",
       "      <td>25</td>\n",
       "      <td>23</td>\n",
       "    </tr>\n",
       "    <tr>\n",
       "      <th>2</th>\n",
       "      <td>1477070</td>\n",
       "      <td>66393</td>\n",
       "      <td>Cafe Habana</td>\n",
       "      <td>Mexican</td>\n",
       "      <td>12.23</td>\n",
       "      <td>Weekday</td>\n",
       "      <td>5</td>\n",
       "      <td>23</td>\n",
       "      <td>28</td>\n",
       "    </tr>\n",
       "    <tr>\n",
       "      <th>3</th>\n",
       "      <td>1477334</td>\n",
       "      <td>106968</td>\n",
       "      <td>Blue Ribbon Fried Chicken</td>\n",
       "      <td>American</td>\n",
       "      <td>29.20</td>\n",
       "      <td>Weekend</td>\n",
       "      <td>3</td>\n",
       "      <td>25</td>\n",
       "      <td>15</td>\n",
       "    </tr>\n",
       "    <tr>\n",
       "      <th>4</th>\n",
       "      <td>1478249</td>\n",
       "      <td>76942</td>\n",
       "      <td>Dirty Bird to Go</td>\n",
       "      <td>American</td>\n",
       "      <td>11.59</td>\n",
       "      <td>Weekday</td>\n",
       "      <td>4</td>\n",
       "      <td>25</td>\n",
       "      <td>24</td>\n",
       "    </tr>\n",
       "  </tbody>\n",
       "</table>\n",
       "</div>"
      ],
      "text/plain": [
       "   order_id  customer_id            restaurant_name cuisine_type  \\\n",
       "0   1477147       337525                    Hangawi       Korean   \n",
       "1   1477685       358141  Blue Ribbon Sushi Izakaya     Japanese   \n",
       "2   1477070        66393                Cafe Habana      Mexican   \n",
       "3   1477334       106968  Blue Ribbon Fried Chicken     American   \n",
       "4   1478249        76942           Dirty Bird to Go     American   \n",
       "\n",
       "   cost_of_the_order day_of_the_week     rating  food_preparation_time  \\\n",
       "0              30.75         Weekend  Not given                     25   \n",
       "1              12.08         Weekend  Not given                     25   \n",
       "2              12.23         Weekday          5                     23   \n",
       "3              29.20         Weekend          3                     25   \n",
       "4              11.59         Weekday          4                     25   \n",
       "\n",
       "   delivery_time  \n",
       "0             20  \n",
       "1             23  \n",
       "2             28  \n",
       "3             15  \n",
       "4             24  "
      ]
     },
     "execution_count": 3,
     "metadata": {},
     "output_type": "execute_result"
    }
   ],
   "source": [
    "# Take a look at the dataset\n",
    "df.head()"
   ]
  },
  {
   "cell_type": "code",
   "execution_count": 4,
   "id": "24f58681",
   "metadata": {},
   "outputs": [
    {
     "data": {
      "text/html": [
       "<div>\n",
       "<style scoped>\n",
       "    .dataframe tbody tr th:only-of-type {\n",
       "        vertical-align: middle;\n",
       "    }\n",
       "\n",
       "    .dataframe tbody tr th {\n",
       "        vertical-align: top;\n",
       "    }\n",
       "\n",
       "    .dataframe thead th {\n",
       "        text-align: right;\n",
       "    }\n",
       "</style>\n",
       "<table border=\"1\" class=\"dataframe\">\n",
       "  <thead>\n",
       "    <tr style=\"text-align: right;\">\n",
       "      <th></th>\n",
       "      <th>order_id</th>\n",
       "      <th>customer_id</th>\n",
       "      <th>restaurant_name</th>\n",
       "      <th>cuisine_type</th>\n",
       "      <th>cost_of_the_order</th>\n",
       "      <th>day_of_the_week</th>\n",
       "      <th>rating</th>\n",
       "      <th>food_preparation_time</th>\n",
       "      <th>delivery_time</th>\n",
       "    </tr>\n",
       "  </thead>\n",
       "  <tbody>\n",
       "    <tr>\n",
       "      <th>1893</th>\n",
       "      <td>1476701</td>\n",
       "      <td>292602</td>\n",
       "      <td>Chipotle Mexican Grill $1.99 Delivery</td>\n",
       "      <td>Mexican</td>\n",
       "      <td>22.31</td>\n",
       "      <td>Weekend</td>\n",
       "      <td>5</td>\n",
       "      <td>31</td>\n",
       "      <td>17</td>\n",
       "    </tr>\n",
       "    <tr>\n",
       "      <th>1894</th>\n",
       "      <td>1477421</td>\n",
       "      <td>397537</td>\n",
       "      <td>The Smile</td>\n",
       "      <td>American</td>\n",
       "      <td>12.18</td>\n",
       "      <td>Weekend</td>\n",
       "      <td>5</td>\n",
       "      <td>31</td>\n",
       "      <td>19</td>\n",
       "    </tr>\n",
       "    <tr>\n",
       "      <th>1895</th>\n",
       "      <td>1477819</td>\n",
       "      <td>35309</td>\n",
       "      <td>Blue Ribbon Sushi</td>\n",
       "      <td>Japanese</td>\n",
       "      <td>25.22</td>\n",
       "      <td>Weekday</td>\n",
       "      <td>Not given</td>\n",
       "      <td>31</td>\n",
       "      <td>24</td>\n",
       "    </tr>\n",
       "    <tr>\n",
       "      <th>1896</th>\n",
       "      <td>1477513</td>\n",
       "      <td>64151</td>\n",
       "      <td>Jack's Wife Freda</td>\n",
       "      <td>Mediterranean</td>\n",
       "      <td>12.18</td>\n",
       "      <td>Weekday</td>\n",
       "      <td>5</td>\n",
       "      <td>23</td>\n",
       "      <td>31</td>\n",
       "    </tr>\n",
       "    <tr>\n",
       "      <th>1897</th>\n",
       "      <td>1478056</td>\n",
       "      <td>120353</td>\n",
       "      <td>Blue Ribbon Sushi</td>\n",
       "      <td>Japanese</td>\n",
       "      <td>19.45</td>\n",
       "      <td>Weekend</td>\n",
       "      <td>Not given</td>\n",
       "      <td>28</td>\n",
       "      <td>24</td>\n",
       "    </tr>\n",
       "  </tbody>\n",
       "</table>\n",
       "</div>"
      ],
      "text/plain": [
       "      order_id  customer_id                        restaurant_name  \\\n",
       "1893   1476701       292602  Chipotle Mexican Grill $1.99 Delivery   \n",
       "1894   1477421       397537                              The Smile   \n",
       "1895   1477819        35309                      Blue Ribbon Sushi   \n",
       "1896   1477513        64151                      Jack's Wife Freda   \n",
       "1897   1478056       120353                      Blue Ribbon Sushi   \n",
       "\n",
       "       cuisine_type  cost_of_the_order day_of_the_week     rating  \\\n",
       "1893        Mexican              22.31         Weekend          5   \n",
       "1894       American              12.18         Weekend          5   \n",
       "1895       Japanese              25.22         Weekday  Not given   \n",
       "1896  Mediterranean              12.18         Weekday          5   \n",
       "1897       Japanese              19.45         Weekend  Not given   \n",
       "\n",
       "      food_preparation_time  delivery_time  \n",
       "1893                     31             17  \n",
       "1894                     31             19  \n",
       "1895                     31             24  \n",
       "1896                     23             31  \n",
       "1897                     28             24  "
      ]
     },
     "execution_count": 4,
     "metadata": {},
     "output_type": "execute_result"
    }
   ],
   "source": [
    "df.tail()"
   ]
  },
  {
   "cell_type": "code",
   "execution_count": 5,
   "id": "b4a3b26c",
   "metadata": {},
   "outputs": [
    {
     "data": {
      "text/plain": [
       "Index(['order_id', 'customer_id', 'restaurant_name', 'cuisine_type',\n",
       "       'cost_of_the_order', 'day_of_the_week', 'rating',\n",
       "       'food_preparation_time', 'delivery_time'],\n",
       "      dtype='object')"
      ]
     },
     "execution_count": 5,
     "metadata": {},
     "output_type": "execute_result"
    }
   ],
   "source": [
    "# take a look at the columns\n",
    "df.columns"
   ]
  },
  {
   "cell_type": "code",
   "execution_count": 6,
   "id": "5cd5dda2",
   "metadata": {},
   "outputs": [
    {
     "name": "stdout",
     "output_type": "stream",
     "text": [
      "<class 'pandas.core.frame.DataFrame'>\n",
      "RangeIndex: 1898 entries, 0 to 1897\n",
      "Data columns (total 9 columns):\n",
      " #   Column                 Non-Null Count  Dtype  \n",
      "---  ------                 --------------  -----  \n",
      " 0   order_id               1898 non-null   int64  \n",
      " 1   customer_id            1898 non-null   int64  \n",
      " 2   restaurant_name        1898 non-null   object \n",
      " 3   cuisine_type           1898 non-null   object \n",
      " 4   cost_of_the_order      1898 non-null   float64\n",
      " 5   day_of_the_week        1898 non-null   object \n",
      " 6   rating                 1898 non-null   object \n",
      " 7   food_preparation_time  1898 non-null   int64  \n",
      " 8   delivery_time          1898 non-null   int64  \n",
      "dtypes: float64(1), int64(4), object(4)\n",
      "memory usage: 133.6+ KB\n"
     ]
    }
   ],
   "source": [
    "# assess the dataframe\n",
    "df.info()"
   ]
  },
  {
   "cell_type": "code",
   "execution_count": 7,
   "id": "b90046bc",
   "metadata": {},
   "outputs": [
    {
     "data": {
      "text/html": [
       "<div>\n",
       "<style scoped>\n",
       "    .dataframe tbody tr th:only-of-type {\n",
       "        vertical-align: middle;\n",
       "    }\n",
       "\n",
       "    .dataframe tbody tr th {\n",
       "        vertical-align: top;\n",
       "    }\n",
       "\n",
       "    .dataframe thead th {\n",
       "        text-align: right;\n",
       "    }\n",
       "</style>\n",
       "<table border=\"1\" class=\"dataframe\">\n",
       "  <thead>\n",
       "    <tr style=\"text-align: right;\">\n",
       "      <th></th>\n",
       "      <th>order_id</th>\n",
       "      <th>customer_id</th>\n",
       "      <th>cost_of_the_order</th>\n",
       "      <th>food_preparation_time</th>\n",
       "      <th>delivery_time</th>\n",
       "    </tr>\n",
       "  </thead>\n",
       "  <tbody>\n",
       "    <tr>\n",
       "      <th>count</th>\n",
       "      <td>1.898000e+03</td>\n",
       "      <td>1898.000000</td>\n",
       "      <td>1898.000000</td>\n",
       "      <td>1898.000000</td>\n",
       "      <td>1898.000000</td>\n",
       "    </tr>\n",
       "    <tr>\n",
       "      <th>mean</th>\n",
       "      <td>1.477496e+06</td>\n",
       "      <td>171168.478398</td>\n",
       "      <td>16.498851</td>\n",
       "      <td>27.371970</td>\n",
       "      <td>24.161749</td>\n",
       "    </tr>\n",
       "    <tr>\n",
       "      <th>std</th>\n",
       "      <td>5.480497e+02</td>\n",
       "      <td>113698.139743</td>\n",
       "      <td>7.483812</td>\n",
       "      <td>4.632481</td>\n",
       "      <td>4.972637</td>\n",
       "    </tr>\n",
       "    <tr>\n",
       "      <th>min</th>\n",
       "      <td>1.476547e+06</td>\n",
       "      <td>1311.000000</td>\n",
       "      <td>4.470000</td>\n",
       "      <td>20.000000</td>\n",
       "      <td>15.000000</td>\n",
       "    </tr>\n",
       "    <tr>\n",
       "      <th>25%</th>\n",
       "      <td>1.477021e+06</td>\n",
       "      <td>77787.750000</td>\n",
       "      <td>12.080000</td>\n",
       "      <td>23.000000</td>\n",
       "      <td>20.000000</td>\n",
       "    </tr>\n",
       "    <tr>\n",
       "      <th>50%</th>\n",
       "      <td>1.477496e+06</td>\n",
       "      <td>128600.000000</td>\n",
       "      <td>14.140000</td>\n",
       "      <td>27.000000</td>\n",
       "      <td>25.000000</td>\n",
       "    </tr>\n",
       "    <tr>\n",
       "      <th>75%</th>\n",
       "      <td>1.477970e+06</td>\n",
       "      <td>270525.000000</td>\n",
       "      <td>22.297500</td>\n",
       "      <td>31.000000</td>\n",
       "      <td>28.000000</td>\n",
       "    </tr>\n",
       "    <tr>\n",
       "      <th>max</th>\n",
       "      <td>1.478444e+06</td>\n",
       "      <td>405334.000000</td>\n",
       "      <td>35.410000</td>\n",
       "      <td>35.000000</td>\n",
       "      <td>33.000000</td>\n",
       "    </tr>\n",
       "  </tbody>\n",
       "</table>\n",
       "</div>"
      ],
      "text/plain": [
       "           order_id    customer_id  cost_of_the_order  food_preparation_time  \\\n",
       "count  1.898000e+03    1898.000000        1898.000000            1898.000000   \n",
       "mean   1.477496e+06  171168.478398          16.498851              27.371970   \n",
       "std    5.480497e+02  113698.139743           7.483812               4.632481   \n",
       "min    1.476547e+06    1311.000000           4.470000              20.000000   \n",
       "25%    1.477021e+06   77787.750000          12.080000              23.000000   \n",
       "50%    1.477496e+06  128600.000000          14.140000              27.000000   \n",
       "75%    1.477970e+06  270525.000000          22.297500              31.000000   \n",
       "max    1.478444e+06  405334.000000          35.410000              35.000000   \n",
       "\n",
       "       delivery_time  \n",
       "count    1898.000000  \n",
       "mean       24.161749  \n",
       "std         4.972637  \n",
       "min        15.000000  \n",
       "25%        20.000000  \n",
       "50%        25.000000  \n",
       "75%        28.000000  \n",
       "max        33.000000  "
      ]
     },
     "execution_count": 7,
     "metadata": {},
     "output_type": "execute_result"
    }
   ],
   "source": [
    "# Check the summary statistics of the numerical values\n",
    "df.describe()"
   ]
  },
  {
   "cell_type": "markdown",
   "id": "b36a6a0d-55d0-462d-a0d5-1f82ba9bb1b7",
   "metadata": {},
   "source": [
    "## 3. DATA CLEANING"
   ]
  },
  {
   "cell_type": "code",
   "execution_count": 8,
   "id": "75c4238b-ab47-4cc3-9d78-3c2cd5924519",
   "metadata": {},
   "outputs": [
    {
     "data": {
      "text/html": [
       "<div>\n",
       "<style scoped>\n",
       "    .dataframe tbody tr th:only-of-type {\n",
       "        vertical-align: middle;\n",
       "    }\n",
       "\n",
       "    .dataframe tbody tr th {\n",
       "        vertical-align: top;\n",
       "    }\n",
       "\n",
       "    .dataframe thead th {\n",
       "        text-align: right;\n",
       "    }\n",
       "</style>\n",
       "<table border=\"1\" class=\"dataframe\">\n",
       "  <thead>\n",
       "    <tr style=\"text-align: right;\">\n",
       "      <th></th>\n",
       "      <th>order_id</th>\n",
       "      <th>customer_id</th>\n",
       "      <th>restaurant_name</th>\n",
       "      <th>cuisine_type</th>\n",
       "      <th>cost_of_the_order</th>\n",
       "      <th>day_of_the_week</th>\n",
       "      <th>rating</th>\n",
       "      <th>food_preparation_time</th>\n",
       "      <th>delivery_time</th>\n",
       "    </tr>\n",
       "  </thead>\n",
       "  <tbody>\n",
       "  </tbody>\n",
       "</table>\n",
       "</div>"
      ],
      "text/plain": [
       "Empty DataFrame\n",
       "Columns: [order_id, customer_id, restaurant_name, cuisine_type, cost_of_the_order, day_of_the_week, rating, food_preparation_time, delivery_time]\n",
       "Index: []"
      ]
     },
     "execution_count": 8,
     "metadata": {},
     "output_type": "execute_result"
    }
   ],
   "source": [
    "# Look for duplicates\n",
    "df[df.duplicated()]"
   ]
  },
  {
   "cell_type": "code",
   "execution_count": 9,
   "id": "9959a26a-43f8-4206-ba2f-359aca34de76",
   "metadata": {},
   "outputs": [],
   "source": [
    "#no duplicates found\n"
   ]
  },
  {
   "cell_type": "code",
   "execution_count": 10,
   "id": "cb69e30b-7ba6-454e-b5f6-bbd3eae1bc39",
   "metadata": {
    "scrolled": true
   },
   "outputs": [
    {
     "data": {
      "text/plain": [
       "order_id                 0\n",
       "customer_id              0\n",
       "restaurant_name          0\n",
       "cuisine_type             0\n",
       "cost_of_the_order        0\n",
       "day_of_the_week          0\n",
       "rating                   0\n",
       "food_preparation_time    0\n",
       "delivery_time            0\n",
       "dtype: int64"
      ]
     },
     "execution_count": 10,
     "metadata": {},
     "output_type": "execute_result"
    }
   ],
   "source": [
    "#look for missing values or null values\n",
    "df.isnull().sum()"
   ]
  },
  {
   "cell_type": "code",
   "execution_count": 11,
   "id": "cb88e75f-eb79-41a6-ad56-355cf65de47a",
   "metadata": {},
   "outputs": [],
   "source": [
    "# no null values "
   ]
  },
  {
   "cell_type": "markdown",
   "id": "404e8a7c-5bd5-4440-90fd-20a84ba15ad9",
   "metadata": {},
   "source": [
    "'rating' should be included in the summary statistics. let's check what has happened"
   ]
  },
  {
   "cell_type": "code",
   "execution_count": 12,
   "id": "ffb152f2-f935-47cc-bf38-17c89f77f19b",
   "metadata": {},
   "outputs": [
    {
     "data": {
      "text/plain": [
       "array(['Not given', '5', '3', '4'], dtype=object)"
      ]
     },
     "execution_count": 12,
     "metadata": {},
     "output_type": "execute_result"
    }
   ],
   "source": [
    "#check for unique values for the rating column \n",
    "df['rating'].unique()"
   ]
  },
  {
   "cell_type": "code",
   "execution_count": 13,
   "id": "edb24484-f9fe-477b-927f-6cce70ad7b78",
   "metadata": {},
   "outputs": [],
   "source": [
    "#delete the rows that have 'not given' in the rating column\n",
    "df.drop(df.index[df['rating']=='Not given'], inplace= True)"
   ]
  },
  {
   "cell_type": "code",
   "execution_count": 14,
   "id": "8e731991-e4e2-414d-943c-ce15bc604bde",
   "metadata": {},
   "outputs": [],
   "source": [
    "# CONVERT THE RATING COLUMN INTO INTEGER DATA TYPE\n",
    "df['rating']=df['rating'].astype('int64')"
   ]
  },
  {
   "cell_type": "code",
   "execution_count": 15,
   "id": "3528002a-3ec4-45c1-9257-f7af820839fd",
   "metadata": {},
   "outputs": [
    {
     "data": {
      "text/html": [
       "<div>\n",
       "<style scoped>\n",
       "    .dataframe tbody tr th:only-of-type {\n",
       "        vertical-align: middle;\n",
       "    }\n",
       "\n",
       "    .dataframe tbody tr th {\n",
       "        vertical-align: top;\n",
       "    }\n",
       "\n",
       "    .dataframe thead th {\n",
       "        text-align: right;\n",
       "    }\n",
       "</style>\n",
       "<table border=\"1\" class=\"dataframe\">\n",
       "  <thead>\n",
       "    <tr style=\"text-align: right;\">\n",
       "      <th></th>\n",
       "      <th>order_id</th>\n",
       "      <th>customer_id</th>\n",
       "      <th>cost_of_the_order</th>\n",
       "      <th>rating</th>\n",
       "      <th>food_preparation_time</th>\n",
       "      <th>delivery_time</th>\n",
       "    </tr>\n",
       "  </thead>\n",
       "  <tbody>\n",
       "    <tr>\n",
       "      <th>count</th>\n",
       "      <td>1.162000e+03</td>\n",
       "      <td>1162.000000</td>\n",
       "      <td>1162.000000</td>\n",
       "      <td>1162.000000</td>\n",
       "      <td>1162.000000</td>\n",
       "      <td>1162.000000</td>\n",
       "    </tr>\n",
       "    <tr>\n",
       "      <th>mean</th>\n",
       "      <td>1.477520e+06</td>\n",
       "      <td>171939.471601</td>\n",
       "      <td>16.760766</td>\n",
       "      <td>4.344234</td>\n",
       "      <td>27.381239</td>\n",
       "      <td>24.154045</td>\n",
       "    </tr>\n",
       "    <tr>\n",
       "      <th>std</th>\n",
       "      <td>5.468713e+02</td>\n",
       "      <td>114551.215031</td>\n",
       "      <td>7.572578</td>\n",
       "      <td>0.741478</td>\n",
       "      <td>4.677922</td>\n",
       "      <td>4.930999</td>\n",
       "    </tr>\n",
       "    <tr>\n",
       "      <th>min</th>\n",
       "      <td>1.476547e+06</td>\n",
       "      <td>5139.000000</td>\n",
       "      <td>4.470000</td>\n",
       "      <td>3.000000</td>\n",
       "      <td>20.000000</td>\n",
       "      <td>15.000000</td>\n",
       "    </tr>\n",
       "    <tr>\n",
       "      <th>25%</th>\n",
       "      <td>1.477062e+06</td>\n",
       "      <td>77540.000000</td>\n",
       "      <td>12.130000</td>\n",
       "      <td>4.000000</td>\n",
       "      <td>23.000000</td>\n",
       "      <td>20.000000</td>\n",
       "    </tr>\n",
       "    <tr>\n",
       "      <th>50%</th>\n",
       "      <td>1.477524e+06</td>\n",
       "      <td>128655.500000</td>\n",
       "      <td>14.600000</td>\n",
       "      <td>5.000000</td>\n",
       "      <td>27.000000</td>\n",
       "      <td>25.000000</td>\n",
       "    </tr>\n",
       "    <tr>\n",
       "      <th>75%</th>\n",
       "      <td>1.477992e+06</td>\n",
       "      <td>276066.250000</td>\n",
       "      <td>22.750000</td>\n",
       "      <td>5.000000</td>\n",
       "      <td>32.000000</td>\n",
       "      <td>28.000000</td>\n",
       "    </tr>\n",
       "    <tr>\n",
       "      <th>max</th>\n",
       "      <td>1.478444e+06</td>\n",
       "      <td>403019.000000</td>\n",
       "      <td>35.410000</td>\n",
       "      <td>5.000000</td>\n",
       "      <td>35.000000</td>\n",
       "      <td>33.000000</td>\n",
       "    </tr>\n",
       "  </tbody>\n",
       "</table>\n",
       "</div>"
      ],
      "text/plain": [
       "           order_id    customer_id  cost_of_the_order       rating  \\\n",
       "count  1.162000e+03    1162.000000        1162.000000  1162.000000   \n",
       "mean   1.477520e+06  171939.471601          16.760766     4.344234   \n",
       "std    5.468713e+02  114551.215031           7.572578     0.741478   \n",
       "min    1.476547e+06    5139.000000           4.470000     3.000000   \n",
       "25%    1.477062e+06   77540.000000          12.130000     4.000000   \n",
       "50%    1.477524e+06  128655.500000          14.600000     5.000000   \n",
       "75%    1.477992e+06  276066.250000          22.750000     5.000000   \n",
       "max    1.478444e+06  403019.000000          35.410000     5.000000   \n",
       "\n",
       "       food_preparation_time  delivery_time  \n",
       "count            1162.000000    1162.000000  \n",
       "mean               27.381239      24.154045  \n",
       "std                 4.677922       4.930999  \n",
       "min                20.000000      15.000000  \n",
       "25%                23.000000      20.000000  \n",
       "50%                27.000000      25.000000  \n",
       "75%                32.000000      28.000000  \n",
       "max                35.000000      33.000000  "
      ]
     },
     "execution_count": 15,
     "metadata": {},
     "output_type": "execute_result"
    }
   ],
   "source": [
    "#check the summary statistics again\n",
    "df.describe()"
   ]
  },
  {
   "cell_type": "markdown",
   "id": "546c8260-ed25-44d2-9ed9-1300d70aba6a",
   "metadata": {},
   "source": [
    "The Dataset has been cleaned"
   ]
  },
  {
   "cell_type": "markdown",
   "id": "15ea9496-895f-4b04-94fb-f21a0711f2bb",
   "metadata": {},
   "source": [
    "## 4. SOLUTION TO THE BUSINESS QUESTIONS"
   ]
  },
  {
   "cell_type": "markdown",
   "id": "7f1f68e2-dc5c-4d3a-88b3-9518f6e77b3d",
   "metadata": {},
   "source": [
    "_Q1: What is the average cost of orders in the dataset?_"
   ]
  },
  {
   "cell_type": "code",
   "execution_count": 16,
   "id": "5f7d29ba-f0bd-446b-b751-3dd0424be789",
   "metadata": {},
   "outputs": [
    {
     "data": {
      "text/plain": [
       "16.76076592082616"
      ]
     },
     "execution_count": 16,
     "metadata": {},
     "output_type": "execute_result"
    }
   ],
   "source": [
    "# Find the mean of the 'cost of order'\n",
    "df['cost_of_the_order']. mean()"
   ]
  },
  {
   "cell_type": "markdown",
   "id": "befdb85c-e896-429c-bae9-08cbe3f6eed0",
   "metadata": {},
   "source": [
    "__The average cost of orders is $16.76__\n"
   ]
  },
  {
   "cell_type": "markdown",
   "id": "eec82d9a-1422-420b-bf53-bae8f33fa019",
   "metadata": {},
   "source": [
    "_Q2: Which restaurant has the highest average cost per order?_"
   ]
  },
  {
   "cell_type": "code",
   "execution_count": 17,
   "id": "d76aaded-6efa-41d2-b1ec-3540f96f6a1e",
   "metadata": {},
   "outputs": [],
   "source": [
    "# USE GROUPBY() TO GROUP THE RESTURSNT NAME, MEAN TO FIND THE AVERAGE COST PER ORDER AND SORT BY() TO SORT IT\n",
    "highest= df.groupby('restaurant_name')['cost_of_the_order'].mean().sort_values(ascending= False)"
   ]
  },
  {
   "cell_type": "code",
   "execution_count": 18,
   "id": "74fb1f21-677f-4a15-8d83-bd7b8397964b",
   "metadata": {},
   "outputs": [
    {
     "data": {
      "text/plain": [
       "restaurant_name\n",
       "Kambi Ramen House    32.93\n",
       "Name: cost_of_the_order, dtype: float64"
      ]
     },
     "execution_count": 18,
     "metadata": {},
     "output_type": "execute_result"
    }
   ],
   "source": [
    "#return only the first result\n",
    "highest.head(1)"
   ]
  },
  {
   "cell_type": "markdown",
   "id": "a6931b8a-698e-4e02-82e5-153d2afa4f36",
   "metadata": {},
   "source": [
    "__Kambi Ramen House has the highest average cost per order__"
   ]
  },
  {
   "cell_type": "markdown",
   "id": "b9c9c085-8421-4e22-932c-591f297c5ad2",
   "metadata": {},
   "source": [
    "_Q3: What is the distribution of cuisine types in the dataset?_"
   ]
  },
  {
   "cell_type": "code",
   "execution_count": 19,
   "id": "68c8c2d2-0d28-4f5a-9114-7965999e9ed5",
   "metadata": {},
   "outputs": [],
   "source": [
    "#CREATE LIST OF CUISINE TYPES\n",
    "cuisines= df['cuisine_type'].unique()\n",
    "\n",
    "#create the counts of the cuisine types\n",
    "cuisine_counts=df['cuisine_type'].value_counts()"
   ]
  },
  {
   "cell_type": "code",
   "execution_count": 20,
   "id": "a2d9c866-6de5-4c79-9237-e0184ac65fc7",
   "metadata": {},
   "outputs": [
    {
     "data": {
      "text/plain": [
       "Text(0, 0.5, 'cuisine counts')"
      ]
     },
     "execution_count": 20,
     "metadata": {},
     "output_type": "execute_result"
    },
    {
     "data": {
      "image/png": "[encoded data removed]",
      "text/plain": [
       "<Figure size 2000x800 with 1 Axes>"
      ]
     },
     "metadata": {},
     "output_type": "display_data"
    }
   ],
   "source": [
    "#create a bar chart with cuisine on the x axis and the count on y axis showing the distribution of the various cuisine types\n",
    "plt.figure(figsize=(20,8))\n",
    "plt.bar(cuisines,cuisine_counts,width=0.6,align='center')\n",
    "plt.xticks(color='green')\n",
    "plt.title('DISTRIBUTION OF CUISINE TYPES')\n",
    "plt.xlabel('cuisine',color='red')\n",
    "plt.ylabel('cuisine counts',color='red')"
   ]
  },
  {
   "cell_type": "markdown",
   "id": "0458c3c1-87cd-4fdb-ae78-1bdb9aa5a211",
   "metadata": {},
   "source": [
    "_Q4: Are orders more frequently placed on weekdays or weekends?_"
   ]
  },
  {
   "cell_type": "code",
   "execution_count": 40,
   "id": "f32127b5-9eea-493d-bdf7-37bc8daef8fc",
   "metadata": {},
   "outputs": [],
   "source": [
    "#count the days of the week\n",
    "count_day=df['day_of_the_week'].value_counts()\n",
    "\n"
   ]
  },
  {
   "cell_type": "code",
   "execution_count": 71,
   "id": "a49ff417-093d-40df-a274-38b45857ade1",
   "metadata": {},
   "outputs": [
    {
     "name": "stdout",
     "output_type": "stream",
     "text": [
      "day_of_the_week\n",
      "Weekend    822\n",
      "Weekday    340\n",
      "Name: count, dtype: int64\n"
     ]
    }
   ],
   "source": [
    "print(count_day)"
   ]
  },
  {
   "cell_type": "code",
   "execution_count": 42,
   "id": "9e956399-32eb-4ebe-9c63-ccd1ac7046b9",
   "metadata": {},
   "outputs": [
    {
     "data": {
      "text/plain": [
       "([<matplotlib.patches.Wedge at 0x24aa924a4d0>,\n",
       "  <matplotlib.patches.Wedge at 0x24aa924b4d0>],\n",
       " [Text(-0.8746462262624144, -0.6670786901744933, 'Weekend'),\n",
       "  Text(0.8746462262624144, 0.6670786901744932, 'Weekday')],\n",
       " [Text(-0.4770797597794987, -0.3638611037315418, '70.7%'),\n",
       "  Text(0.4770797597794987, 0.36386110373154174, '29.3%')])"
      ]
     },
     "execution_count": 42,
     "metadata": {},
     "output_type": "execute_result"
    },
    {
     "data": {
      "image/png": "[encoded data removed]",
      "text/plain": [
       "<Figure size 700x700 with 1 Axes>"
      ]
     },
     "metadata": {},
     "output_type": "display_data"
    }
   ],
   "source": [
    "#create a piechart to visualise the info above\n",
    "plt.figure(figsize=(7,7))\n",
    "plt.pie(count_day,labels= count_day.index,autopct='%1.1f%%',startangle=90)"
   ]
  },
  {
   "cell_type": "markdown",
   "id": "c46d658f-143d-4578-80ef-acff8ecbf99e",
   "metadata": {},
   "source": [
    "__Orders are placed more on weekends__"
   ]
  },
  {
   "cell_type": "markdown",
   "id": "9d1d03a2-cc32-49f0-8bb5-367ae0bbcd46",
   "metadata": {},
   "source": [
    "_Q5: What restaurants have an average rating of 5?_"
   ]
  },
  {
   "cell_type": "code",
   "execution_count": 44,
   "id": "43cadbfa-6d0d-457b-9ae0-e18dff65cc58",
   "metadata": {},
   "outputs": [
    {
     "name": "stdout",
     "output_type": "stream",
     "text": [
      "restaurant_name\n",
      "'wichcraft                       5.0\n",
      "Ravagh Persian Grill             5.0\n",
      "Chola Eclectic Indian Cuisine    5.0\n",
      "Chote Nawab                      5.0\n",
      "Junoon                           5.0\n",
      "Socarrat Paella Bar              5.0\n",
      "DespaÌ±a                         5.0\n",
      "Dig Inn Seasonal Market          5.0\n",
      "Saravanaa Bhavan                 5.0\n",
      "Donburi-ya                       5.0\n",
      "Dos Caminos                      5.0\n",
      "Dos Caminos Soho                 5.0\n",
      "Samurai Mama                     5.0\n",
      "El Parador Cafe                  5.0\n",
      "Prosperity Dumpling              5.0\n",
      "Carmine's                        5.0\n",
      "Galli Restaurant                 5.0\n",
      "Grand Sichuan International      5.0\n",
      "Philippe Chow                    5.0\n",
      "Olive Garden                     5.0\n",
      "Haru Gramercy Park               5.0\n",
      "Moonstruck on Second             5.0\n",
      "Mission Cantina                  5.0\n",
      "Hot Kitchen                      5.0\n",
      "Hunan Manor                      5.0\n",
      "Lantern Thai Kitchen             5.0\n",
      "Klong                            5.0\n",
      "Kanoyama                         5.0\n",
      "Song Thai Restaurant & Bar       5.0\n",
      "Cipriani Le Specialita           5.0\n",
      "Vanessa's Dumpling House         5.0\n",
      "Tortaria                         5.0\n",
      "da Umberto                       5.0\n",
      "67 Burger                        5.0\n",
      "Yama 49                          5.0\n",
      "Anjappar Chettinad               5.0\n",
      "Asuka Sushi                      5.0\n",
      "Balade                           5.0\n",
      "Xe May Sandwich Shop             5.0\n",
      "Vezzo Thin Crust Pizza           5.0\n",
      "Bhatti Indian Grill              5.0\n",
      "Big Daddy's                      5.0\n",
      "UVA Wine Bar & Restaurant        5.0\n",
      "Kambi Ramen House                5.0\n",
      "Cafe de La Esquina               5.0\n",
      "Taro Sushi                       5.0\n",
      "Bukhara Grill                    5.0\n",
      "Name: rating, dtype: float64\n"
     ]
    }
   ],
   "source": [
    "#Group by restaurants and find the average rating\n",
    "rest_rating=df.groupby('restaurant_name')['rating'].mean().sort_values(ascending= False)\n",
    "\n",
    "#Return the restaurants with average rating of 5\n",
    "high_rated= rest_rating[rest_rating== 5]\n",
    "\n",
    "print(high_rated)"
   ]
  },
  {
   "cell_type": "markdown",
   "id": "e235651d-990f-4e1e-b056-ed3f39a30b3a",
   "metadata": {},
   "source": [
    "_Q6:Which cuisine type has the highest average rating?_"
   ]
  },
  {
   "cell_type": "code",
   "execution_count": 46,
   "id": "c2251da6-b0f8-4145-b18a-de295b3d4432",
   "metadata": {},
   "outputs": [
    {
     "data": {
      "text/plain": [
       "cuisine_type\n",
       "Spanish    4.833333\n",
       "Name: rating, dtype: float64"
      ]
     },
     "execution_count": 46,
     "metadata": {},
     "output_type": "execute_result"
    }
   ],
   "source": [
    "# Group by cuisine types and find the average ratings and sort by highest rating\n",
    "cuisine_rating=df.groupby('cuisine_type')['rating'].mean().sort_values(ascending=False)\n",
    "\n",
    "#return cuisine type with highest rating\n",
    "cuisine_rating.head(1)"
   ]
  },
  {
   "cell_type": "markdown",
   "id": "bb6b8dea-3b76-4166-af04-eb6ce29b4550",
   "metadata": {},
   "source": [
    "__Spanish cuisine has the highest average rating__"
   ]
  },
  {
   "cell_type": "markdown",
   "id": "68d32c41-aed8-4aa9-a1f2-c7c2535cab13",
   "metadata": {},
   "source": [
    " _Q7:How does the distribution of food preparation times look across different cuisine types?_"
   ]
  },
  {
   "cell_type": "code",
   "execution_count": 54,
   "id": "62df22d7-7b85-4dc1-a2ac-4aa1407890c5",
   "metadata": {},
   "outputs": [
    {
     "data": {
      "image/png": "[encoded data removed]",
      "text/plain": [
       "<Figure size 2000x800 with 1 Axes>"
      ]
     },
     "metadata": {},
     "output_type": "display_data"
    }
   ],
   "source": [
    "# find the mean preparation times for each cuisine\n",
    "prep_time=df.groupby('cuisine_type')['food_preparation_time'].mean().sort_values()\n",
    "\n",
    "#plot a bar chart to show this distribution\n",
    "plt.figure(figsize=(20,8))\n",
    "plt.bar(prep_time.index,prep_time,width=0.6,align='center')\n",
    "plt.xticks(color='red')\n",
    "plt.title('DISTRIBUTION OF FOOD PREPARATION TIMES ACROSS DIFFERENT CUISINES')\n",
    "plt.xlabel('cuisine types',color='black')\n",
    "plt.ylabel('Average preparation time',color='black')\n",
    "plt.show()"
   ]
  },
  {
   "cell_type": "markdown",
   "id": "f5bd946a-d9ae-4402-ad28-8d190d99cd33",
   "metadata": {},
   "source": [
    "_Q8:What is the average delivery time for orders placed on weekends versus weekdays?_"
   ]
  },
  {
   "cell_type": "code",
   "execution_count": 76,
   "id": "78f7528a-8d2f-4100-81cd-c670e58ae9f1",
   "metadata": {},
   "outputs": [
    {
     "name": "stdout",
     "output_type": "stream",
     "text": [
      "day_of_the_week\n",
      "Weekend    22.436740\n",
      "Weekday    28.305882\n",
      "Name: delivery_time, dtype: float64\n"
     ]
    }
   ],
   "source": [
    "#Group by day_of_the_week, find the average delivery time\n",
    "avg_delivery_time=df.groupby('day_of_the_week')['delivery_time'].mean().sort_values()\n",
    "\n",
    "#view the results\n",
    "print(avg_delivery_time)"
   ]
  },
  {
   "cell_type": "markdown",
   "id": "892302e6-04f2-4858-bf84-7967db4d955e",
   "metadata": {},
   "source": [
    "__Weekend average delivery time is 22.44 mins while Weekday average delivery time is 28.31 mins__"
   ]
  },
  {
   "cell_type": "markdown",
   "id": "a2cac944-a859-4d06-ae75-1c13c2980eb8",
   "metadata": {},
   "source": [
    "_Q9:How does the rating vary for different cuisine types?_"
   ]
  },
  {
   "cell_type": "code",
   "execution_count": 70,
   "id": "b674d691-4922-4782-90c6-b7bd93fb4140",
   "metadata": {},
   "outputs": [
    {
     "data": {
      "image/png": "[encoded data removed]",
      "text/plain": [
       "<Figure size 2000x1000 with 1 Axes>"
      ]
     },
     "metadata": {},
     "output_type": "display_data"
    }
   ],
   "source": [
    "# Group by cuisine types and find the average rating\n",
    "rating=df.groupby('cuisine_type')['rating'].mean().sort_values(ascending= True)\n",
    "\n",
    "#plot a bar chart to show this distribution\n",
    "plt.figure(figsize=(20,10))\n",
    "plt.bar(rating.index,rating,width=0.6,align='center',color='yellow')\n",
    "plt.title('DISTRIBUTION OF RATING ACROSS VARIOUS CUISINE TYPES',color='green')\n",
    "plt.xticks(color='black')\n",
    "plt.xlabel('cuisine types',color='green')\n",
    "plt.ylabel('average rating',color='green')\n",
    "plt.show()"
   ]
  },
  {
   "cell_type": "markdown",
   "id": "059f6d29-b988-43c1-b069-104c5b5a4039",
   "metadata": {},
   "source": [
    "_Q10: Can we identify any trends in food preparation times and delivery times over the dataset's timeline?_"
   ]
  },
  {
   "cell_type": "code",
   "execution_count": 75,
   "id": "3fde08d6-26a8-4db2-b97b-a6f606aadebe",
   "metadata": {},
   "outputs": [
    {
     "data": {
      "image/png": "[encoded data removed]",
      "text/plain": [
       "<Figure size 1000x800 with 2 Axes>"
      ]
     },
     "metadata": {},
     "output_type": "display_data"
    }
   ],
   "source": [
    "# Plotting average food preparation time and delivery time per day of the week\n",
    "fig, (ax1, ax2) = plt.subplots(2, 1, figsize=(10, 8))\n",
    "\n",
    "df.groupby('day_of_the_week')['food_preparation_time'].mean().plot(ax=ax1, marker='o', label='Food Preparation Time')\n",
    "df.groupby('day_of_the_week')['delivery_time'].mean().plot(ax=ax2, marker='o', color='orange', label='Delivery Time')\n",
    "\n",
    "ax1.set_ylabel('Food Preparation Time (minutes)')\n",
    "ax2.set_ylabel('Delivery Time (minutes)')\n",
    "plt.xlabel('Day of the Week')\n",
    "plt.legend()\n",
    "plt.show()"
   ]
  },
  {
   "cell_type": "markdown",
   "id": "0d385e18-0e4a-44d6-a10a-5d07dc383f48",
   "metadata": {},
   "source": [
    "__In the above, there is a noticeable trend in the food preparation and delivery times during the days of the week. The average time for preparation of food per day increases during the week while the average delivery time per day decreases during the week__"
   ]
  },
  {
   "cell_type": "markdown",
   "id": "9d1560a4-ed67-45ef-959b-5a16fc1a3ea7",
   "metadata": {},
   "source": [
    "## 4. CONCLUSIONS AND RECOMMENDATIONS"
   ]
  },
  {
   "cell_type": "markdown",
   "id": "5f149349-21f5-4750-ae59-e2e241bbe746",
   "metadata": {},
   "source": [
    "**Summarized Insights from the \"food_order\" Dataset Exploration:**\n",
    "\n",
    "1. **Cost Dynamics:**\n",
    "   - The average cost of orders stands at *$16.76*, offering a fundamental insight into the financial aspect of customer transactions.\n",
    "\n",
    "2. **Distinct Restaurant Offering:**\n",
    "   - Kambi Ramen House holds the distinction of having the highest average cost per order at $32.93, suggesting a unique market position or specialty. Further investigation into menu preferences is recommended to discern contributing factors.\n",
    "\n",
    "3. **Culinary Diversity:**\n",
    "   - Visualizing cuisine types through a bar chart highlights the dataset's culinary diversity. This insight serves as a valuable reference for both customers seeking diverse options and restaurant owners assessing the popularity of specific culinary styles.\n",
    "\n",
    "4. **Weekend Ordering Trend:**\n",
    "   - A significant trend reveals that 70.7% of orders are placed on weekends. This observation has operational implications, indicating the need for optimized staffing and resources during peak weekend periods.\n",
    "\n",
    "5. **Top-Rated Establishments:**\n",
    "   - Several restaurants boast an average rating of 5, showcasing exceptional customer satisfaction. This distinction not only serves as a reference for customers seeking outstanding experiences but also provides marketing opportunities for highlighted establishments.\n",
    "\n",
    "6. **Highly Rated Cuisine:**\n",
    "   - Spanish cuisine leads with the highest average rating of 4.83. This insight can influence promotional strategies and guide marketing efforts to capitalize on the positive reception of Spanish culinary offerings.\n",
    "\n",
    "7. **Operational Insights - Food Preparation Times:**\n",
    "   - Examination of food preparation times across different cuisine types unveils variations, offering valuable operational insights. Cuisine-specific preparation time trends can inform kitchen management strategies, enhancing efficiency.\n",
    "\n",
    "8. **Delivery Time Optimization:**\n",
    "   - Analyzing average delivery times on weekdays versus weekends recommends practical strategies for restaurant owners. Leveraging shorter weekend delivery times (22.44 minutes) can enhance service quality during peak delivery periods.\n",
    "\n",
    "9. **Cuisine-Specific Rating Variations:**\n",
    "   - The variation in ratings across different cuisine types emphasizes the importance of understanding customer preferences. This insight guides menu development, allowing restaurants to focus on cuisines aligning with customer tastes.\n",
    "\n",
    "**Actionable Recommendations for Restaurant Owners:**\n",
    "\n",
    "1. **Pricing Strategy Optimization:**\n",
    "   - Establishments with higher average costs per order, such as Kambi Ramen House, should conduct in-depth analyses to align pricing models with customer expectations and market trends.\n",
    "\n",
    "2. **Strategic Staffing for Weekends:**\n",
    "   - Given the weekend ordering trend, optimizing staffing levels during peak periods ensures timely order preparation and delivery, enhancing overall customer satisfaction.\n",
    "\n",
    "3. **Delivery Process Enhancement:**\n",
    "   - Restaurants experiencing longer weekday delivery times should explore optimization strategies. Streamlining logistics, considering alternate routes, and improving communication with delivery personnel can contribute to shorter delivery times.\n",
    "\n",
    "4. **Promotional Focus on High Ratings:**\n",
    "   - Leveraging high ratings, particularly an average rating of 5, in marketing activities can attract new customers and foster brand loyalty.\n",
    "\n",
    "5. **Cuisine-Specific Marketing Initiatives:**\n",
    "   - Recognizing the popularity of Spanish cuisine, targeted marketing efforts can promote Spanish dishes and unique culinary experiences, attracting customers seeking exceptional dining options.\n",
    "\n",
    "6. **Operational Efficiency through Preparation Time Insights:**\n",
    "   - Utilizing insights from food preparation time distributions can enhance kitchen operations. Implementing measures to optimize preparation processes ensures consistent service quality across different cuisine types.\n",
    "\n",
    "7. **Strategic Weekday Planning:**\n",
    "   - Considering longer weekday delivery times, strategic planning for weekday operations, including staffing adjustments and efficiency measures, can improve overall service quality.\n",
    "\n",
    "8. **Continuous Customer Feedback Analysis:**\n",
    "   - Engaging in continuous analysis of customer feedback, particularly for lower-rated establishments, identifies areas for improvement and contributes to enhanced customer satisfaction and loyalty.\n",
    "\n",
    "In summary, these insights and recommendations empower restaurant owners to align their operations with customer behaviors and preferences, ultimately delivering an exceptional dining experience."
   ]
  }
 ],
 "metadata": {
  "kernelspec": {
   "display_name": "Python 3 (ipykernel)",
   "language": "python",
   "name": "python3"
  },
  "language_info": {
   "codemirror_mode": {
    "name": "ipython",
    "version": 3
   },
   "file_extension": ".py",
   "mimetype": "text/x-python",
   "name": "python",
   "nbconvert_exporter": "python",
   "pygments_lexer": "ipython3",
   "version": "3.11.5"
  }
 },
 "nbformat": 4,
 "nbformat_minor": 5
}
